# Notebook for cleaning telco churn data (esimerkkipohja)
