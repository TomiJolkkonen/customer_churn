# Notebook for evaluating churn model performance (esimerkkipohja)
